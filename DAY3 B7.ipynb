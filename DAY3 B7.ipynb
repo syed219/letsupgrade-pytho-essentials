{
 "cells": [
  {
   "cell_type": "markdown",
   "metadata": {},
   "source": [
    "# pilot question"
   ]
  },
  {
   "cell_type": "code",
   "execution_count": 4,
   "metadata": {},
   "outputs": [
    {
     "name": "stdout",
     "output_type": "stream",
     "text": [
      "Enter Weather altitude:1000\n",
      "SAFE TO LAND\n"
     ]
    }
   ],
   "source": [
    "a=1000\n",
    "b=5000\n",
    "n = int(input(\"Enter Weather altitude:\"))\n",
    "if( n <= a):\n",
    "    print(\"SAFE TO LAND\")\n",
    "elif(n > a  and  n < b):\n",
    "    print(\"BRING DOWN TO 1000\")\n",
    "else:\n",
    "    print(\"GO AROUND & TRY LATER\")"
   ]
  },
  {
   "cell_type": "code",
   "execution_count": 5,
   "metadata": {},
   "outputs": [
    {
     "name": "stdout",
     "output_type": "stream",
     "text": [
      "Enter Weather altitude:4500\n",
      "BRING DOWN TO 1000\n"
     ]
    }
   ],
   "source": [
    "a=1000\n",
    "b=5000\n",
    "n = int(input(\"Enter Weather altitude:\"))\n",
    "if( n <= a):\n",
    "    print(\"SAFE TO LAND\")\n",
    "elif(n > a  and  n < b):\n",
    "    print(\"BRING DOWN TO 1000\")\n",
    "else:\n",
    "    print(\"GO AROUND & TRY LATER\")"
   ]
  },
  {
   "cell_type": "code",
   "execution_count": 6,
   "metadata": {},
   "outputs": [
    {
     "name": "stdout",
     "output_type": "stream",
     "text": [
      "Enter Weather altitude:6500\n",
      "GO AROUND & TRY LATER\n"
     ]
    }
   ],
   "source": [
    "a=1000\n",
    "b=5000\n",
    "n = int(input(\"Enter Weather altitude:\"))\n",
    "if( n <= a):\n",
    "    print(\"SAFE TO LAND\")\n",
    "elif(n > a  and  n < b):\n",
    "    print(\"BRING DOWN TO 1000\")\n",
    "else:\n",
    "    print(\"GO AROUND & TRY LATER\")"
   ]
  },
  {
   "cell_type": "markdown",
   "metadata": {},
   "source": [
    "# prime numbers "
   ]
  },
  {
   "cell_type": "code",
   "execution_count": 16,
   "metadata": {},
   "outputs": [
    {
     "name": "stdout",
     "output_type": "stream",
     "text": [
      "2\n",
      "3\n",
      "5\n",
      "7\n",
      "11\n",
      "13\n",
      "17\n",
      "19\n",
      "23\n",
      "29\n",
      "31\n",
      "37\n",
      "41\n",
      "43\n",
      "47\n",
      "53\n",
      "59\n",
      "61\n",
      "67\n",
      "71\n",
      "73\n",
      "79\n",
      "83\n",
      "89\n",
      "97\n",
      "101\n",
      "103\n",
      "107\n",
      "109\n",
      "113\n",
      "127\n",
      "131\n",
      "137\n",
      "139\n",
      "149\n",
      "151\n",
      "157\n",
      "163\n",
      "167\n",
      "173\n",
      "179\n",
      "181\n",
      "191\n",
      "193\n",
      "197\n",
      "199\n"
     ]
    }
   ],
   "source": [
    "for n in range(1,201):  \n",
    "   if n > 1:  \n",
    "       for i in range(2,n):  \n",
    "           if (n % i) == 0:  \n",
    "               break  \n",
    "       else:  \n",
    "           print(n)  "
   ]
  },
  {
   "cell_type": "code",
   "execution_count": null,
   "metadata": {},
   "outputs": [],
   "source": []
  }
 ],
 "metadata": {
  "kernelspec": {
   "display_name": "Python 3",
   "language": "python",
   "name": "python3"
  },
  "language_info": {
   "codemirror_mode": {
    "name": "ipython",
    "version": 3
   },
   "file_extension": ".py",
   "mimetype": "text/x-python",
   "name": "python",
   "nbconvert_exporter": "python",
   "pygments_lexer": "ipython3",
   "version": "3.7.6"
  }
 },
 "nbformat": 4,
 "nbformat_minor": 4
}
